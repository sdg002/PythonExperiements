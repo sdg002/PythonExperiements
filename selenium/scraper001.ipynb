{
 "cells": [
  {
   "cell_type": "markdown",
   "id": "8df9c250-edc1-493f-8aef-320aa3bcdfd5",
   "metadata": {},
   "source": [
    "# BBC"
   ]
  },
  {
   "cell_type": "code",
   "execution_count": 41,
   "id": "ff7a0260-3ed3-4f7b-b57c-b2cf8e168a56",
   "metadata": {},
   "outputs": [],
   "source": [
    "from selenium import webdriver\n",
    "from selenium.webdriver.common.by import By\n",
    "from selenium.webdriver.chrome.options import Options\n",
    "import pandas as pd\n",
    "import matplotlib.pyplot as plt"
   ]
  },
  {
   "cell_type": "code",
   "execution_count": 3,
   "id": "a151e196-086e-4315-9edd-17fa6e1b3d63",
   "metadata": {},
   "outputs": [],
   "source": [
    "bbc_url=\"https://www.bbc.co.uk/\""
   ]
  },
  {
   "cell_type": "markdown",
   "id": "81bb7324-cfed-46c3-a7ba-9a34541529e3",
   "metadata": {},
   "source": [
    "# Initialize the driver"
   ]
  },
  {
   "cell_type": "code",
   "execution_count": 4,
   "id": "2c391938-d39c-4732-a9e7-327cd4a2a5d6",
   "metadata": {},
   "outputs": [],
   "source": [
    "options = Options()\n",
    "options.add_argument('--headless=new')    \n",
    "driver = webdriver.Chrome(options=options)\n"
   ]
  },
  {
   "cell_type": "markdown",
   "id": "f0e5a072-427a-4a11-ba1a-76419e2f0fc8",
   "metadata": {},
   "source": [
    "# Load the page"
   ]
  },
  {
   "cell_type": "code",
   "execution_count": 45,
   "id": "25e5df56-16a8-441b-91b3-d7c07ebaf576",
   "metadata": {},
   "outputs": [],
   "source": [
    "driver.get(url=bbc_url)"
   ]
  },
  {
   "cell_type": "markdown",
   "id": "100de6b8-04d0-46f6-89eb-ed74d71497da",
   "metadata": {},
   "source": [
    "# Analyze all the element"
   ]
  },
  {
   "cell_type": "code",
   "execution_count": 46,
   "id": "23489a92-1efe-4797-b662-62dee24bc07b",
   "metadata": {},
   "outputs": [
    {
     "name": "stdout",
     "output_type": "stream",
     "text": [
      "Found 179 elements\n"
     ]
    }
   ],
   "source": [
    "all_li_elements=driver.find_elements(by= By.TAG_NAME,value=\"li\")\n",
    "print(f\"Found {len(all_li_elements)} elements\")"
   ]
  },
  {
   "cell_type": "markdown",
   "id": "fb73cb32-4c19-42c1-9c30-8a04050d9ae3",
   "metadata": {},
   "source": [
    "# Find all A links"
   ]
  },
  {
   "cell_type": "code",
   "execution_count": 47,
   "id": "79b878c0-9892-498d-9e28-f53597bfa2a5",
   "metadata": {},
   "outputs": [
    {
     "name": "stdout",
     "output_type": "stream",
     "text": [
      "Found 168 elements\n"
     ]
    }
   ],
   "source": [
    "all_a_elements=driver.find_elements(by= By.XPATH,value=\"//a\")\n",
    "print(f\"Found {len(all_a_elements)} elements\")"
   ]
  },
  {
   "cell_type": "markdown",
   "id": "f38a8e24-1797-4cc8-b8db-899cf625f0e2",
   "metadata": {},
   "source": [
    "# Plot the size"
   ]
  },
  {
   "cell_type": "code",
   "execution_count": 48,
   "id": "37792140-c459-48e5-bdb3-cb48a8867daf",
   "metadata": {},
   "outputs": [
    {
     "data": {
      "text/plain": [
       "'f.7CA0444E3629D3281D115750990D7E6F.d.F92B883D8DFBFFF42E3E300D1DA15657.e.548'"
      ]
     },
     "execution_count": 48,
     "metadata": {},
     "output_type": "execute_result"
    }
   ],
   "source": [
    "all_a_elements[0].id"
   ]
  },
  {
   "cell_type": "code",
   "execution_count": 49,
   "id": "945a432b-5ea0-4080-94e9-c9ef4e250ab7",
   "metadata": {},
   "outputs": [
    {
     "data": {
      "text/plain": [
       "(16, 'cookies')"
      ]
     },
     "execution_count": 49,
     "metadata": {},
     "output_type": "execute_result"
    }
   ],
   "source": [
    "all_a_elements[0].size['height'], all_a_elements[0].text"
   ]
  },
  {
   "cell_type": "code",
   "execution_count": 50,
   "id": "a96fbf86-9e0c-4719-9aca-8c2c88a92e43",
   "metadata": {},
   "outputs": [
    {
     "data": {
      "text/html": [
       "<div>\n",
       "<style scoped>\n",
       "    .dataframe tbody tr th:only-of-type {\n",
       "        vertical-align: middle;\n",
       "    }\n",
       "\n",
       "    .dataframe tbody tr th {\n",
       "        vertical-align: top;\n",
       "    }\n",
       "\n",
       "    .dataframe thead th {\n",
       "        text-align: right;\n",
       "    }\n",
       "</style>\n",
       "<table border=\"1\" class=\"dataframe\">\n",
       "  <thead>\n",
       "    <tr style=\"text-align: right;\">\n",
       "      <th></th>\n",
       "      <th>id</th>\n",
       "      <th>width</th>\n",
       "      <th>height</th>\n",
       "      <th>text</th>\n",
       "    </tr>\n",
       "  </thead>\n",
       "  <tbody>\n",
       "    <tr>\n",
       "      <th>0</th>\n",
       "      <td>f.7CA0444E3629D3281D115750990D7E6F.d.F92B883D8...</td>\n",
       "      <td>50</td>\n",
       "      <td>16</td>\n",
       "      <td>cookies</td>\n",
       "    </tr>\n",
       "    <tr>\n",
       "      <th>1</th>\n",
       "      <td>f.7CA0444E3629D3281D115750990D7E6F.d.F92B883D8...</td>\n",
       "      <td>123</td>\n",
       "      <td>43</td>\n",
       "      <td>No, take me to settings</td>\n",
       "    </tr>\n",
       "    <tr>\n",
       "      <th>2</th>\n",
       "      <td>f.7CA0444E3629D3281D115750990D7E6F.d.F92B883D8...</td>\n",
       "      <td>128</td>\n",
       "      <td>56</td>\n",
       "      <td>BBC Homepage</td>\n",
       "    </tr>\n",
       "    <tr>\n",
       "      <th>3</th>\n",
       "      <td>f.7CA0444E3629D3281D115750990D7E6F.d.F92B883D8...</td>\n",
       "      <td>1</td>\n",
       "      <td>1</td>\n",
       "      <td>Skip to content</td>\n",
       "    </tr>\n",
       "    <tr>\n",
       "      <th>4</th>\n",
       "      <td>f.7CA0444E3629D3281D115750990D7E6F.d.F92B883D8...</td>\n",
       "      <td>1</td>\n",
       "      <td>1</td>\n",
       "      <td>Accessibility Help</td>\n",
       "    </tr>\n",
       "    <tr>\n",
       "      <th>...</th>\n",
       "      <td>...</td>\n",
       "      <td>...</td>\n",
       "      <td>...</td>\n",
       "      <td>...</td>\n",
       "    </tr>\n",
       "    <tr>\n",
       "      <th>163</th>\n",
       "      <td>f.7CA0444E3629D3281D115750990D7E6F.d.F92B883D8...</td>\n",
       "      <td>126</td>\n",
       "      <td>40</td>\n",
       "      <td>Contact the BBC</td>\n",
       "    </tr>\n",
       "    <tr>\n",
       "      <th>164</th>\n",
       "      <td>f.7CA0444E3629D3281D115750990D7E6F.d.F92B883D8...</td>\n",
       "      <td>196</td>\n",
       "      <td>40</td>\n",
       "      <td>Make an editorial complaint</td>\n",
       "    </tr>\n",
       "    <tr>\n",
       "      <th>165</th>\n",
       "      <td>f.7CA0444E3629D3281D115750990D7E6F.d.F92B883D8...</td>\n",
       "      <td>206</td>\n",
       "      <td>40</td>\n",
       "      <td>Get Personalised Newsletters</td>\n",
       "    </tr>\n",
       "    <tr>\n",
       "      <th>166</th>\n",
       "      <td>f.7CA0444E3629D3281D115750990D7E6F.d.F92B883D8...</td>\n",
       "      <td>188</td>\n",
       "      <td>40</td>\n",
       "      <td>Why you can trust the BBC</td>\n",
       "    </tr>\n",
       "    <tr>\n",
       "      <th>167</th>\n",
       "      <td>f.7CA0444E3629D3281D115750990D7E6F.d.F92B883D8...</td>\n",
       "      <td>274</td>\n",
       "      <td>15</td>\n",
       "      <td>Read about our approach to external linking.</td>\n",
       "    </tr>\n",
       "  </tbody>\n",
       "</table>\n",
       "<p>168 rows × 4 columns</p>\n",
       "</div>"
      ],
      "text/plain": [
       "                                                    id  width  height  \\\n",
       "0    f.7CA0444E3629D3281D115750990D7E6F.d.F92B883D8...     50      16   \n",
       "1    f.7CA0444E3629D3281D115750990D7E6F.d.F92B883D8...    123      43   \n",
       "2    f.7CA0444E3629D3281D115750990D7E6F.d.F92B883D8...    128      56   \n",
       "3    f.7CA0444E3629D3281D115750990D7E6F.d.F92B883D8...      1       1   \n",
       "4    f.7CA0444E3629D3281D115750990D7E6F.d.F92B883D8...      1       1   \n",
       "..                                                 ...    ...     ...   \n",
       "163  f.7CA0444E3629D3281D115750990D7E6F.d.F92B883D8...    126      40   \n",
       "164  f.7CA0444E3629D3281D115750990D7E6F.d.F92B883D8...    196      40   \n",
       "165  f.7CA0444E3629D3281D115750990D7E6F.d.F92B883D8...    206      40   \n",
       "166  f.7CA0444E3629D3281D115750990D7E6F.d.F92B883D8...    188      40   \n",
       "167  f.7CA0444E3629D3281D115750990D7E6F.d.F92B883D8...    274      15   \n",
       "\n",
       "                                             text  \n",
       "0                                         cookies  \n",
       "1                         No, take me to settings  \n",
       "2                                    BBC Homepage  \n",
       "3                                 Skip to content  \n",
       "4                              Accessibility Help  \n",
       "..                                            ...  \n",
       "163                               Contact the BBC  \n",
       "164                   Make an editorial complaint  \n",
       "165                  Get Personalised Newsletters  \n",
       "166                     Why you can trust the BBC  \n",
       "167  Read about our approach to external linking.  \n",
       "\n",
       "[168 rows x 4 columns]"
      ]
     },
     "execution_count": 50,
     "metadata": {},
     "output_type": "execute_result"
    }
   ],
   "source": [
    "widths=[]\n",
    "heights=[]\n",
    "ids=[]\n",
    "texts=[]\n",
    "for e in all_a_elements:\n",
    "    widths.append(e.size[\"width\"])\n",
    "    heights.append(e.size[\"height\"])\n",
    "    ids.append(e.id)\n",
    "    texts.append(e.text)\n",
    "df_links=pd.DataFrame({\"id\": ids, \"width\":widths, \"height\": heights, \"text\": texts})\n",
    "df_links"
   ]
  },
  {
   "cell_type": "code",
   "execution_count": 51,
   "id": "4f0b8b77-2640-4b13-8a9e-23cf20841495",
   "metadata": {},
   "outputs": [
    {
     "data": {
      "text/html": [
       "<div>\n",
       "<style scoped>\n",
       "    .dataframe tbody tr th:only-of-type {\n",
       "        vertical-align: middle;\n",
       "    }\n",
       "\n",
       "    .dataframe tbody tr th {\n",
       "        vertical-align: top;\n",
       "    }\n",
       "\n",
       "    .dataframe thead th {\n",
       "        text-align: right;\n",
       "    }\n",
       "</style>\n",
       "<table border=\"1\" class=\"dataframe\">\n",
       "  <thead>\n",
       "    <tr style=\"text-align: right;\">\n",
       "      <th></th>\n",
       "      <th>id</th>\n",
       "      <th>width</th>\n",
       "      <th>height</th>\n",
       "      <th>text</th>\n",
       "    </tr>\n",
       "  </thead>\n",
       "  <tbody>\n",
       "    <tr>\n",
       "      <th>103</th>\n",
       "      <td>f.7CA0444E3629D3281D115750990D7E6F.d.F92B883D8...</td>\n",
       "      <td>425</td>\n",
       "      <td>175</td>\n",
       "      <td>BLOOMING LOVELY\\nHow to spruce up your garden ...</td>\n",
       "    </tr>\n",
       "    <tr>\n",
       "      <th>111</th>\n",
       "      <td>f.7CA0444E3629D3281D115750990D7E6F.d.F92B883D8...</td>\n",
       "      <td>456</td>\n",
       "      <td>96</td>\n",
       "      <td>This Town: Feuds, family and music from Peaky ...</td>\n",
       "    </tr>\n",
       "    <tr>\n",
       "      <th>29</th>\n",
       "      <td>f.7CA0444E3629D3281D115750990D7E6F.d.F92B883D8...</td>\n",
       "      <td>456</td>\n",
       "      <td>96</td>\n",
       "      <td>LIVE\\n. \\nSenior Iranian commander killed in I...</td>\n",
       "    </tr>\n",
       "    <tr>\n",
       "      <th>70</th>\n",
       "      <td>f.7CA0444E3629D3281D115750990D7E6F.d.F92B883D8...</td>\n",
       "      <td>456</td>\n",
       "      <td>96</td>\n",
       "      <td>Netflix's 3 Body Problem, a billionaire and a ...</td>\n",
       "    </tr>\n",
       "    <tr>\n",
       "      <th>78</th>\n",
       "      <td>f.7CA0444E3629D3281D115750990D7E6F.d.F92B883D8...</td>\n",
       "      <td>208</td>\n",
       "      <td>88</td>\n",
       "      <td>Country music star Carly Pearce: Divorce has g...</td>\n",
       "    </tr>\n",
       "    <tr>\n",
       "      <th>...</th>\n",
       "      <td>...</td>\n",
       "      <td>...</td>\n",
       "      <td>...</td>\n",
       "      <td>...</td>\n",
       "    </tr>\n",
       "    <tr>\n",
       "      <th>20</th>\n",
       "      <td>f.7CA0444E3629D3281D115750990D7E6F.d.F92B883D8...</td>\n",
       "      <td>0</td>\n",
       "      <td>0</td>\n",
       "      <td></td>\n",
       "    </tr>\n",
       "    <tr>\n",
       "      <th>19</th>\n",
       "      <td>f.7CA0444E3629D3281D115750990D7E6F.d.F92B883D8...</td>\n",
       "      <td>0</td>\n",
       "      <td>0</td>\n",
       "      <td></td>\n",
       "    </tr>\n",
       "    <tr>\n",
       "      <th>18</th>\n",
       "      <td>f.7CA0444E3629D3281D115750990D7E6F.d.F92B883D8...</td>\n",
       "      <td>0</td>\n",
       "      <td>0</td>\n",
       "      <td></td>\n",
       "    </tr>\n",
       "    <tr>\n",
       "      <th>17</th>\n",
       "      <td>f.7CA0444E3629D3281D115750990D7E6F.d.F92B883D8...</td>\n",
       "      <td>0</td>\n",
       "      <td>0</td>\n",
       "      <td></td>\n",
       "    </tr>\n",
       "    <tr>\n",
       "      <th>15</th>\n",
       "      <td>f.7CA0444E3629D3281D115750990D7E6F.d.F92B883D8...</td>\n",
       "      <td>0</td>\n",
       "      <td>0</td>\n",
       "      <td></td>\n",
       "    </tr>\n",
       "  </tbody>\n",
       "</table>\n",
       "<p>168 rows × 4 columns</p>\n",
       "</div>"
      ],
      "text/plain": [
       "                                                    id  width  height  \\\n",
       "103  f.7CA0444E3629D3281D115750990D7E6F.d.F92B883D8...    425     175   \n",
       "111  f.7CA0444E3629D3281D115750990D7E6F.d.F92B883D8...    456      96   \n",
       "29   f.7CA0444E3629D3281D115750990D7E6F.d.F92B883D8...    456      96   \n",
       "70   f.7CA0444E3629D3281D115750990D7E6F.d.F92B883D8...    456      96   \n",
       "78   f.7CA0444E3629D3281D115750990D7E6F.d.F92B883D8...    208      88   \n",
       "..                                                 ...    ...     ...   \n",
       "20   f.7CA0444E3629D3281D115750990D7E6F.d.F92B883D8...      0       0   \n",
       "19   f.7CA0444E3629D3281D115750990D7E6F.d.F92B883D8...      0       0   \n",
       "18   f.7CA0444E3629D3281D115750990D7E6F.d.F92B883D8...      0       0   \n",
       "17   f.7CA0444E3629D3281D115750990D7E6F.d.F92B883D8...      0       0   \n",
       "15   f.7CA0444E3629D3281D115750990D7E6F.d.F92B883D8...      0       0   \n",
       "\n",
       "                                                  text  \n",
       "103  BLOOMING LOVELY\\nHow to spruce up your garden ...  \n",
       "111  This Town: Feuds, family and music from Peaky ...  \n",
       "29   LIVE\\n. \\nSenior Iranian commander killed in I...  \n",
       "70   Netflix's 3 Body Problem, a billionaire and a ...  \n",
       "78   Country music star Carly Pearce: Divorce has g...  \n",
       "..                                                 ...  \n",
       "20                                                      \n",
       "19                                                      \n",
       "18                                                      \n",
       "17                                                      \n",
       "15                                                      \n",
       "\n",
       "[168 rows x 4 columns]"
      ]
     },
     "execution_count": 51,
     "metadata": {},
     "output_type": "execute_result"
    }
   ],
   "source": [
    "df_links.sort_values(by=['height'], ascending=False)"
   ]
  },
  {
   "cell_type": "code",
   "execution_count": 42,
   "id": "f55ec210-e7ef-4f6b-bcd2-fccdb791b6a8",
   "metadata": {},
   "outputs": [
    {
     "data": {
      "text/plain": [
       "(array([12., 47., 47., 49.,  0.,  9.,  0.,  0.,  0.,  1.]),\n",
       " array([  0. ,  17.5,  35. ,  52.5,  70. ,  87.5, 105. , 122.5, 140. ,\n",
       "        157.5, 175. ]),\n",
       " <BarContainer object of 10 artists>)"
      ]
     },
     "execution_count": 42,
     "metadata": {},
     "output_type": "execute_result"
    },
    {
     "data": {
      "image/png": "[encoded data removed]",
      "text/plain": [
       "<Figure size 640x480 with 1 Axes>"
      ]
     },
     "metadata": {},
     "output_type": "display_data"
    }
   ],
   "source": [
    "plt.hist(df_links[\"height\"], bins=10)"
   ]
  },
  {
   "cell_type": "code",
   "execution_count": 59,
   "id": "b4f33fa4-2296-4f84-b51f-9f4ace737d26",
   "metadata": {},
   "outputs": [
    {
     "data": {
      "text/html": [
       "<div>\n",
       "<style scoped>\n",
       "    .dataframe tbody tr th:only-of-type {\n",
       "        vertical-align: middle;\n",
       "    }\n",
       "\n",
       "    .dataframe tbody tr th {\n",
       "        vertical-align: top;\n",
       "    }\n",
       "\n",
       "    .dataframe thead th {\n",
       "        text-align: right;\n",
       "    }\n",
       "</style>\n",
       "<table border=\"1\" class=\"dataframe\">\n",
       "  <thead>\n",
       "    <tr style=\"text-align: right;\">\n",
       "      <th></th>\n",
       "      <th>id</th>\n",
       "      <th>width</th>\n",
       "      <th>height</th>\n",
       "      <th>text</th>\n",
       "    </tr>\n",
       "  </thead>\n",
       "  <tbody>\n",
       "    <tr>\n",
       "      <th>51</th>\n",
       "      <td>f.7CA0444E3629D3281D115750990D7E6F.d.F92B883D8...</td>\n",
       "      <td>208</td>\n",
       "      <td>66</td>\n",
       "      <td>'Advantage Liverpool - but they are not my tit...</td>\n",
       "    </tr>\n",
       "    <tr>\n",
       "      <th>65</th>\n",
       "      <td>f.7CA0444E3629D3281D115750990D7E6F.d.F92B883D8...</td>\n",
       "      <td>208</td>\n",
       "      <td>66</td>\n",
       "      <td>Youths seen making petrol bombs ahead of Derry...</td>\n",
       "    </tr>\n",
       "    <tr>\n",
       "      <th>47</th>\n",
       "      <td>f.7CA0444E3629D3281D115750990D7E6F.d.F92B883D8...</td>\n",
       "      <td>208</td>\n",
       "      <td>66</td>\n",
       "      <td>Late goals help Leeds overcome Hull to stay se...</td>\n",
       "    </tr>\n",
       "    <tr>\n",
       "      <th>49</th>\n",
       "      <td>f.7CA0444E3629D3281D115750990D7E6F.d.F92B883D8...</td>\n",
       "      <td>208</td>\n",
       "      <td>66</td>\n",
       "      <td>Humphries thrashes Van Gerwen to win German Gr...</td>\n",
       "    </tr>\n",
       "    <tr>\n",
       "      <th>94</th>\n",
       "      <td>f.7CA0444E3629D3281D115750990D7E6F.d.F92B883D8...</td>\n",
       "      <td>208</td>\n",
       "      <td>66</td>\n",
       "      <td>'We've seen everything': Judges look back at 2...</td>\n",
       "    </tr>\n",
       "    <tr>\n",
       "      <th>...</th>\n",
       "      <td>...</td>\n",
       "      <td>...</td>\n",
       "      <td>...</td>\n",
       "      <td>...</td>\n",
       "    </tr>\n",
       "    <tr>\n",
       "      <th>143</th>\n",
       "      <td>f.7CA0444E3629D3281D115750990D7E6F.d.F92B883D8...</td>\n",
       "      <td>105</td>\n",
       "      <td>40</td>\n",
       "      <td>Home</td>\n",
       "    </tr>\n",
       "    <tr>\n",
       "      <th>69</th>\n",
       "      <td>f.7CA0444E3629D3281D115750990D7E6F.d.F92B883D8...</td>\n",
       "      <td>274</td>\n",
       "      <td>28</td>\n",
       "      <td>Entertainment and TV</td>\n",
       "    </tr>\n",
       "    <tr>\n",
       "      <th>46</th>\n",
       "      <td>f.7CA0444E3629D3281D115750990D7E6F.d.F92B883D8...</td>\n",
       "      <td>201</td>\n",
       "      <td>28</td>\n",
       "      <td>Sport headlines</td>\n",
       "    </tr>\n",
       "    <tr>\n",
       "      <th>58</th>\n",
       "      <td>f.7CA0444E3629D3281D115750990D7E6F.d.F92B883D8...</td>\n",
       "      <td>192</td>\n",
       "      <td>28</td>\n",
       "      <td>Around the UK</td>\n",
       "    </tr>\n",
       "    <tr>\n",
       "      <th>90</th>\n",
       "      <td>f.7CA0444E3629D3281D115750990D7E6F.d.F92B883D8...</td>\n",
       "      <td>213</td>\n",
       "      <td>28</td>\n",
       "      <td>Food and recipes</td>\n",
       "    </tr>\n",
       "  </tbody>\n",
       "</table>\n",
       "<p>103 rows × 4 columns</p>\n",
       "</div>"
      ],
      "text/plain": [
       "                                                    id  width  height  \\\n",
       "51   f.7CA0444E3629D3281D115750990D7E6F.d.F92B883D8...    208      66   \n",
       "65   f.7CA0444E3629D3281D115750990D7E6F.d.F92B883D8...    208      66   \n",
       "47   f.7CA0444E3629D3281D115750990D7E6F.d.F92B883D8...    208      66   \n",
       "49   f.7CA0444E3629D3281D115750990D7E6F.d.F92B883D8...    208      66   \n",
       "94   f.7CA0444E3629D3281D115750990D7E6F.d.F92B883D8...    208      66   \n",
       "..                                                 ...    ...     ...   \n",
       "143  f.7CA0444E3629D3281D115750990D7E6F.d.F92B883D8...    105      40   \n",
       "69   f.7CA0444E3629D3281D115750990D7E6F.d.F92B883D8...    274      28   \n",
       "46   f.7CA0444E3629D3281D115750990D7E6F.d.F92B883D8...    201      28   \n",
       "58   f.7CA0444E3629D3281D115750990D7E6F.d.F92B883D8...    192      28   \n",
       "90   f.7CA0444E3629D3281D115750990D7E6F.d.F92B883D8...    213      28   \n",
       "\n",
       "                                                  text  \n",
       "51   'Advantage Liverpool - but they are not my tit...  \n",
       "65   Youths seen making petrol bombs ahead of Derry...  \n",
       "47   Late goals help Leeds overcome Hull to stay se...  \n",
       "49   Humphries thrashes Van Gerwen to win German Gr...  \n",
       "94   'We've seen everything': Judges look back at 2...  \n",
       "..                                                 ...  \n",
       "143                                               Home  \n",
       "69                                Entertainment and TV  \n",
       "46                                     Sport headlines  \n",
       "58                                       Around the UK  \n",
       "90                                    Food and recipes  \n",
       "\n",
       "[103 rows x 4 columns]"
      ]
     },
     "execution_count": 59,
     "metadata": {},
     "output_type": "execute_result"
    }
   ],
   "source": [
    "filter=(df_links[\"height\"] >=25) & (df_links[\"height\"] <= 75)\n",
    "#filter=(df_links[\"height\"] >=25) \n",
    "df_links[filter].sort_values(by=[\"height\"], ascending=False)"
   ]
  },
  {
   "cell_type": "code",
   "execution_count": null,
   "id": "e02e2d1e-a34b-4e29-b955-d0d6174f2d19",
   "metadata": {},
   "outputs": [],
   "source": [
    "all_a_headline_elements=driver.find_elements(by= By.XPATH,value='//a[contains(@class,\"Headline\")]')\n",
    "print(f\"Found {len(all_a_headline_elements)} elements\")"
   ]
  },
  {
   "cell_type": "markdown",
   "id": "c2fbb11d-8fff-4f43-addf-74d342920f66",
   "metadata": {},
   "source": [
    "# Class contains did not work"
   ]
  },
  {
   "cell_type": "code",
   "execution_count": 23,
   "id": "567e6d3a-df20-4585-84f7-ed9bb5368cc1",
   "metadata": {},
   "outputs": [
    {
     "name": "stdout",
     "output_type": "stream",
     "text": [
      "Found 0 elements\n"
     ]
    }
   ],
   "source": [
    "all_a_headline_elements=driver.find_elements(by= By.XPATH,value='//a[contains(@class,\"Headline\")]')\n",
    "print(f\"Found {len(all_a_headline_elements)} elements\")"
   ]
  },
  {
   "attachments": {},
   "cell_type": "markdown",
   "id": "c3f12c3c-be5e-4953-bc48-fae47a8bf405",
   "metadata": {},
   "source": [
    "for element in all_li_elements:\n",
    "    print(element.text)\n",
    "\n",
    "print(\"Done with iterating\")"
   ]
  },
  {
   "cell_type": "markdown",
   "id": "2cc8ab51-ee2a-40fe-b73a-61ba153e30bc",
   "metadata": {},
   "source": [
    "# Quit"
   ]
  },
  {
   "cell_type": "code",
   "execution_count": null,
   "id": "c4554fee-e761-436e-a234-5a956998c056",
   "metadata": {},
   "outputs": [],
   "source": [
    "driver.quit()"
   ]
  }
 ],
 "metadata": {
  "kernelspec": {
   "display_name": "Python 3 (ipykernel)",
   "language": "python",
   "name": "python3"
  },
  "language_info": {
   "codemirror_mode": {
    "name": "ipython",
    "version": 3
   },
   "file_extension": ".py",
   "mimetype": "text/x-python",
   "name": "python",
   "nbconvert_exporter": "python",
   "pygments_lexer": "ipython3",
   "version": "3.9.13"
  }
 },
 "nbformat": 4,
 "nbformat_minor": 5
}
