{
 "cells": [
  {
   "cell_type": "markdown",
   "id": "8df9c250-edc1-493f-8aef-320aa3bcdfd5",
   "metadata": {},
   "source": [
    "# BBC"
   ]
  },
  {
   "cell_type": "code",
   "execution_count": 2,
   "id": "ff7a0260-3ed3-4f7b-b57c-b2cf8e168a56",
   "metadata": {},
   "outputs": [],
   "source": [
    "from selenium import webdriver\n",
    "from selenium.webdriver.common.by import By\n",
    "from selenium.webdriver.chrome.options import Options"
   ]
  },
  {
   "cell_type": "code",
   "execution_count": 3,
   "id": "a151e196-086e-4315-9edd-17fa6e1b3d63",
   "metadata": {},
   "outputs": [],
   "source": [
    "bbc_url=\"https://www.bbc.co.uk/\""
   ]
  },
  {
   "cell_type": "markdown",
   "id": "81bb7324-cfed-46c3-a7ba-9a34541529e3",
   "metadata": {},
   "source": [
    "# Initialize the driver"
   ]
  },
  {
   "cell_type": "code",
   "execution_count": 4,
   "id": "2c391938-d39c-4732-a9e7-327cd4a2a5d6",
   "metadata": {},
   "outputs": [],
   "source": [
    "options = Options()\n",
    "options.add_argument('--headless=new')    \n",
    "driver = webdriver.Chrome(options=options)\n"
   ]
  },
  {
   "cell_type": "markdown",
   "id": "f0e5a072-427a-4a11-ba1a-76419e2f0fc8",
   "metadata": {},
   "source": [
    "# Load the page"
   ]
  },
  {
   "cell_type": "code",
   "execution_count": 5,
   "id": "25e5df56-16a8-441b-91b3-d7c07ebaf576",
   "metadata": {},
   "outputs": [],
   "source": [
    "driver.get(url=bbc_url)"
   ]
  },
  {
   "cell_type": "markdown",
   "id": "100de6b8-04d0-46f6-89eb-ed74d71497da",
   "metadata": {},
   "source": [
    "# Analyze all the element"
   ]
  },
  {
   "cell_type": "code",
   "execution_count": 8,
   "id": "23489a92-1efe-4797-b662-62dee24bc07b",
   "metadata": {},
   "outputs": [
    {
     "name": "stdout",
     "output_type": "stream",
     "text": [
      "Found 179 elements\n"
     ]
    }
   ],
   "source": [
    "all_li_elements=driver.find_elements(by= By.TAG_NAME,value=\"li\")\n",
    "print(f\"Found {len(all_li_elements)} elements\")"
   ]
  },
  {
   "cell_type": "markdown",
   "id": "2cc8ab51-ee2a-40fe-b73a-61ba153e30bc",
   "metadata": {},
   "source": [
    "# Quit"
   ]
  },
  {
   "cell_type": "code",
   "execution_count": null,
   "id": "c4554fee-e761-436e-a234-5a956998c056",
   "metadata": {},
   "outputs": [],
   "source": [
    "driver.quit()"
   ]
  }
 ],
 "metadata": {
  "kernelspec": {
   "display_name": "Python 3 (ipykernel)",
   "language": "python",
   "name": "python3"
  },
  "language_info": {
   "codemirror_mode": {
    "name": "ipython",
    "version": 3
   },
   "file_extension": ".py",
   "mimetype": "text/x-python",
   "name": "python",
   "nbconvert_exporter": "python",
   "pygments_lexer": "ipython3",
   "version": "3.9.13"
  }
 },
 "nbformat": 4,
 "nbformat_minor": 5
}
