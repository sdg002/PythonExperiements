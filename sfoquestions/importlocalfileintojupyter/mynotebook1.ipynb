{
 "cells": [
  {
   "cell_type": "code",
   "execution_count": 1,
   "id": "59bcab3d-7e39-4e6e-8c30-1e2615b6e3da",
   "metadata": {},
   "outputs": [
    {
     "name": "stdout",
     "output_type": "stream",
     "text": [
      "Inside implmentation 1\n"
     ]
    }
   ],
   "source": [
    "import modules\n",
    "modules.MyAlgorithms.some_implementation_1()"
   ]
  },
  {
   "cell_type": "code",
   "execution_count": 2,
   "id": "72c28b7d-2bd4-41b9-b3ba-75e41cae2d95",
   "metadata": {},
   "outputs": [],
   "source": [
    "import sys"
   ]
  },
  {
   "cell_type": "code",
   "execution_count": 3,
   "id": "ef79d9a0-9622-4eda-b601-4a96dba71aa2",
   "metadata": {},
   "outputs": [
    {
     "data": {
      "text/plain": [
       "['C:\\\\Users\\\\saurabhd\\\\MyTrials\\\\Python\\\\any-python\\\\sfoquestions\\\\importlocalfileintojupyter',\n",
       " 'C:\\\\Program Files\\\\Python39\\\\python39.zip',\n",
       " 'C:\\\\Program Files\\\\Python39\\\\DLLs',\n",
       " 'C:\\\\Program Files\\\\Python39\\\\lib',\n",
       " 'C:\\\\Program Files\\\\Python39',\n",
       " 'C:\\\\Users\\\\saurabhd\\\\MyTrials\\\\Python\\\\any-python\\\\.venv',\n",
       " '',\n",
       " 'C:\\\\Users\\\\saurabhd\\\\MyTrials\\\\Python\\\\any-python\\\\.venv\\\\lib\\\\site-packages',\n",
       " 'C:\\\\Users\\\\saurabhd\\\\MyTrials\\\\Python\\\\any-python\\\\.venv\\\\lib\\\\site-packages\\\\win32',\n",
       " 'C:\\\\Users\\\\saurabhd\\\\MyTrials\\\\Python\\\\any-python\\\\.venv\\\\lib\\\\site-packages\\\\win32\\\\lib',\n",
       " 'C:\\\\Users\\\\saurabhd\\\\MyTrials\\\\Python\\\\any-python\\\\.venv\\\\lib\\\\site-packages\\\\Pythonwin']"
      ]
     },
     "execution_count": 3,
     "metadata": {},
     "output_type": "execute_result"
    }
   ],
   "source": [
    "sys.path"
   ]
  },
  {
   "cell_type": "code",
   "execution_count": 3,
   "id": "4e7e1fe1-97c7-41f8-9e4f-80c14316cd4b",
   "metadata": {},
   "outputs": [],
   "source": [
    "from modules.mymodule import *"
   ]
  },
  {
   "cell_type": "code",
   "execution_count": 4,
   "id": "6f61465e-c9bc-4d41-834f-3cb609084b0b",
   "metadata": {},
   "outputs": [
    {
     "name": "stdout",
     "output_type": "stream",
     "text": [
      "Inside implmentation 1\n"
     ]
    }
   ],
   "source": [
    "MyAlgorithms.some_implementation_1()"
   ]
  },
  {
   "cell_type": "code",
   "execution_count": null,
   "id": "b8c275ab-9b96-472c-89bc-833251f2ba6c",
   "metadata": {},
   "outputs": [],
   "source": []
  }
 ],
 "metadata": {
  "kernelspec": {
   "display_name": "Python 3 (ipykernel)",
   "language": "python",
   "name": "python3"
  },
  "language_info": {
   "codemirror_mode": {
    "name": "ipython",
    "version": 3
   },
   "file_extension": ".py",
   "mimetype": "text/x-python",
   "name": "python",
   "nbconvert_exporter": "python",
   "pygments_lexer": "ipython3",
   "version": "3.9.13"
  }
 },
 "nbformat": 4,
 "nbformat_minor": 5
}
