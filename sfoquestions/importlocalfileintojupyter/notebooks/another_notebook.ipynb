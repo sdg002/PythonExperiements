{
 "cells": [
  {
   "cell_type": "code",
   "execution_count": 3,
   "id": "426d676c-49e3-410a-a4ee-75da049e5138",
   "metadata": {},
   "outputs": [
    {
     "ename": "ImportError",
     "evalue": "attempted relative import with no known parent package",
     "output_type": "error",
     "traceback": [
      "\u001b[1;31m---------------------------------------------------------------------------\u001b[0m",
      "\u001b[1;31mImportError\u001b[0m                               Traceback (most recent call last)",
      "Cell \u001b[1;32mIn[3], line 1\u001b[0m\n\u001b[1;32m----> 1\u001b[0m \u001b[38;5;28;01mfrom\u001b[39;00m \u001b[38;5;21;01m.\u001b[39;00m\u001b[38;5;21;01m.\u001b[39;00m\u001b[38;5;21;01mmodules\u001b[39;00m\u001b[38;5;21;01m.\u001b[39;00m\u001b[38;5;21;01mmymodule\u001b[39;00m \u001b[38;5;28;01mimport\u001b[39;00m \u001b[38;5;241m*\u001b[39m\n",
      "\u001b[1;31mImportError\u001b[0m: attempted relative import with no known parent package"
     ]
    }
   ],
   "source": [
    "from ..modules.mymodule import *"
   ]
  },
  {
   "cell_type": "code",
   "execution_count": 2,
   "id": "c25b011b-6b49-447f-8e88-5faade5d9cc0",
   "metadata": {},
   "outputs": [
    {
     "name": "stdout",
     "output_type": "stream",
     "text": [
      "Inside implmentation 1\n"
     ]
    }
   ],
   "source": [
    "import modules\n",
    "modules.MyAlgorithms.some_implementation_1()"
   ]
  },
  {
   "cell_type": "code",
   "execution_count": 7,
   "id": "f40b081a-bda5-4533-a302-b416f4c87755",
   "metadata": {},
   "outputs": [],
   "source": [
    "import os\n",
    "import sys"
   ]
  },
  {
   "cell_type": "code",
   "execution_count": 8,
   "id": "78ba7935-ff0f-44a2-bb4d-fecc62518a89",
   "metadata": {},
   "outputs": [
    {
     "data": {
      "text/plain": [
       "'C:\\\\Users\\\\saurabhd\\\\MyTrials\\\\Python\\\\any-python\\\\sfoquestions\\\\importlocalfileintojupyter\\\\notebooks'"
      ]
     },
     "execution_count": 8,
     "metadata": {},
     "output_type": "execute_result"
    }
   ],
   "source": [
    "os.getcwd()"
   ]
  },
  {
   "cell_type": "code",
   "execution_count": 9,
   "id": "5a536091-5777-416d-9a0e-db0a441293a7",
   "metadata": {},
   "outputs": [
    {
     "data": {
      "text/plain": [
       "['C:\\\\Program Files\\\\Python39\\\\python39.zip',\n",
       " 'C:\\\\Program Files\\\\Python39\\\\DLLs',\n",
       " 'C:\\\\Program Files\\\\Python39\\\\lib',\n",
       " 'C:\\\\Program Files\\\\Python39',\n",
       " 'C:\\\\Users\\\\saurabhd\\\\MyTrials\\\\Python\\\\any-python\\\\.venv',\n",
       " '',\n",
       " 'C:\\\\Users\\\\saurabhd\\\\MyTrials\\\\Python\\\\any-python\\\\.venv\\\\lib\\\\site-packages',\n",
       " 'C:\\\\Users\\\\saurabhd\\\\MyTrials\\\\Python\\\\any-python\\\\.venv\\\\lib\\\\site-packages\\\\win32',\n",
       " 'C:\\\\Users\\\\saurabhd\\\\MyTrials\\\\Python\\\\any-python\\\\.venv\\\\lib\\\\site-packages\\\\win32\\\\lib',\n",
       " 'C:\\\\Users\\\\saurabhd\\\\MyTrials\\\\Python\\\\any-python\\\\.venv\\\\lib\\\\site-packages\\\\Pythonwin']"
      ]
     },
     "execution_count": 9,
     "metadata": {},
     "output_type": "execute_result"
    }
   ],
   "source": [
    "sys.path"
   ]
  },
  {
   "cell_type": "code",
   "execution_count": null,
   "id": "cb943b7e-26ed-4fd8-b051-35a2df545fdd",
   "metadata": {},
   "outputs": [],
   "source": []
  }
 ],
 "metadata": {
  "kernelspec": {
   "display_name": "Python 3 (ipykernel)",
   "language": "python",
   "name": "python3"
  },
  "language_info": {
   "codemirror_mode": {
    "name": "ipython",
    "version": 3
   },
   "file_extension": ".py",
   "mimetype": "text/x-python",
   "name": "python",
   "nbconvert_exporter": "python",
   "pygments_lexer": "ipython3",
   "version": "3.9.13"
  }
 },
 "nbformat": 4,
 "nbformat_minor": 5
}
