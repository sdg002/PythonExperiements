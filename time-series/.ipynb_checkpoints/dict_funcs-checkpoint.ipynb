{
 "cells": [
  {
   "cell_type": "markdown",
   "id": "cf3fa049-d1fb-4836-ac26-ae57872958c9",
   "metadata": {},
   "source": [
    "# Calling functions from dictionary items\n",
    "- When using a Dictionary as a Jinja context, can we call functions ?\n",
    "- Can we call @classmethods from a Dictionary"
   ]
  },
  {
   "cell_type": "code",
   "execution_count": 1,
   "id": "597d31a2-02a0-464b-886f-872714bebf4a",
   "metadata": {},
   "outputs": [],
   "source": [
    "main_dict={}"
   ]
  },
  {
   "cell_type": "code",
   "execution_count": 2,
   "id": "aa55f3c6-9a1b-4f58-9920-cce7ead6da74",
   "metadata": {},
   "outputs": [],
   "source": [
    "def add(x,y):\n",
    "    return x+y"
   ]
  },
  {
   "cell_type": "code",
   "execution_count": 3,
   "id": "02081009-521c-414b-9b91-4b31867e6fec",
   "metadata": {},
   "outputs": [],
   "source": [
    "main_dict[\"add\"]=add"
   ]
  },
  {
   "cell_type": "code",
   "execution_count": 4,
   "id": "c1a1f27f-8dad-4923-9ccd-b135500b6687",
   "metadata": {},
   "outputs": [
    {
     "data": {
      "text/plain": [
       "300"
      ]
     },
     "execution_count": 4,
     "metadata": {},
     "output_type": "execute_result"
    }
   ],
   "source": [
    "main_dict[\"add\"](100,200)"
   ]
  },
  {
   "cell_type": "code",
   "execution_count": 9,
   "id": "087777f5-8e5e-4fd3-92cc-51b130cf6d09",
   "metadata": {},
   "outputs": [],
   "source": [
    "class DemoClass(object):\n",
    "    @classmethod\n",
    "    def method1(cls,x, y):\n",
    "        return x+y"
   ]
  },
  {
   "cell_type": "code",
   "execution_count": 10,
   "id": "2e521840-66c8-4ed3-8988-1dc59dd32e76",
   "metadata": {},
   "outputs": [],
   "source": [
    "main_dict[\"class_method1\"]=DemoClass.method1"
   ]
  },
  {
   "cell_type": "code",
   "execution_count": 12,
   "id": "e86819cb-528e-4c8b-affd-c29099056e63",
   "metadata": {},
   "outputs": [
    {
     "data": {
      "text/plain": [
       "3000"
      ]
     },
     "execution_count": 12,
     "metadata": {},
     "output_type": "execute_result"
    }
   ],
   "source": [
    "main_dict[\"class_method1\"](1000,2000)"
   ]
  },
  {
   "cell_type": "code",
   "execution_count": null,
   "id": "a53e433d-2751-4e73-8d17-dae236e71e73",
   "metadata": {},
   "outputs": [],
   "source": []
  }
 ],
 "metadata": {
  "kernelspec": {
   "display_name": "Python 3 (ipykernel)",
   "language": "python",
   "name": "python3"
  },
  "language_info": {
   "codemirror_mode": {
    "name": "ipython",
    "version": 3
   },
   "file_extension": ".py",
   "mimetype": "text/x-python",
   "name": "python",
   "nbconvert_exporter": "python",
   "pygments_lexer": "ipython3",
   "version": "3.9.13"
  }
 },
 "nbformat": 4,
 "nbformat_minor": 5
}
